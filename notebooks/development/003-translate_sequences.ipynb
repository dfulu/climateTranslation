{
 "cells": [
  {
   "cell_type": "code",
   "execution_count": 1,
   "metadata": {},
   "outputs": [
    {
     "name": "stdout",
     "output_type": "stream",
     "text": [
      "/home/dfulu/repos/climateTranslation/UNIT\n"
     ]
    }
   ],
   "source": []
  },
  {
   "cell_type": "code",
   "execution_count": 4,
   "metadata": {},
   "outputs": [
    {
     "ename": "ModuleNotFoundError",
     "evalue": "No module named 'networks'",
     "output_type": "error",
     "traceback": [
      "\u001b[0;31m---------------------------------------------------------------------------\u001b[0m",
      "\u001b[0;31mModuleNotFoundError\u001b[0m                       Traceback (most recent call last)",
      "\u001b[0;32m<ipython-input-4-c367f1eddd3a>\u001b[0m in \u001b[0;36m<module>\u001b[0;34m()\u001b[0m\n\u001b[1;32m      8\u001b[0m \u001b[0;32mfrom\u001b[0m \u001b[0mclimatetranslation\u001b[0m\u001b[0;34m.\u001b[0m\u001b[0munit\u001b[0m\u001b[0;34m.\u001b[0m\u001b[0mutils\u001b[0m \u001b[0;32mimport\u001b[0m \u001b[0mget_config\u001b[0m\u001b[0;34m\u001b[0m\u001b[0;34m\u001b[0m\u001b[0m\n\u001b[1;32m      9\u001b[0m \u001b[0;32mfrom\u001b[0m \u001b[0mclimatetranslation\u001b[0m\u001b[0;34m.\u001b[0m\u001b[0munit\u001b[0m\u001b[0;34m.\u001b[0m\u001b[0mdata\u001b[0m \u001b[0;32mimport\u001b[0m \u001b[0mget_all_data_loaders\u001b[0m\u001b[0;34m\u001b[0m\u001b[0;34m\u001b[0m\u001b[0m\n\u001b[0;32m---> 10\u001b[0;31m \u001b[0;32mfrom\u001b[0m \u001b[0mclimatetranslation\u001b[0m\u001b[0;34m.\u001b[0m\u001b[0munit\u001b[0m\u001b[0;34m.\u001b[0m\u001b[0mtrainer\u001b[0m \u001b[0;32mimport\u001b[0m \u001b[0mUNIT_Trainer\u001b[0m\u001b[0;34m\u001b[0m\u001b[0;34m\u001b[0m\u001b[0m\n\u001b[0m\u001b[1;32m     11\u001b[0m \u001b[0;34m\u001b[0m\u001b[0m\n\u001b[1;32m     12\u001b[0m \u001b[0;32mimport\u001b[0m \u001b[0mtorch\u001b[0m\u001b[0;34m\u001b[0m\u001b[0;34m\u001b[0m\u001b[0m\n",
      "\u001b[0;32m/home/dfulu/repos/climateTranslation/climatetranslation/unit/trainer.py\u001b[0m in \u001b[0;36m<module>\u001b[0;34m()\u001b[0m\n\u001b[1;32m      3\u001b[0m \u001b[0mLicensed\u001b[0m \u001b[0munder\u001b[0m \u001b[0mthe\u001b[0m \u001b[0mCC\u001b[0m \u001b[0mBY\u001b[0m\u001b[0;34m-\u001b[0m\u001b[0mNC\u001b[0m\u001b[0;34m-\u001b[0m\u001b[0mSA\u001b[0m \u001b[0;36m4.0\u001b[0m \u001b[0mlicense\u001b[0m \u001b[0;34m(\u001b[0m\u001b[0mhttps\u001b[0m\u001b[0;34m:\u001b[0m\u001b[0;34m//\u001b[0m\u001b[0mcreativecommons\u001b[0m\u001b[0;34m.\u001b[0m\u001b[0morg\u001b[0m\u001b[0;34m/\u001b[0m\u001b[0mlicenses\u001b[0m\u001b[0;34m/\u001b[0m\u001b[0mby\u001b[0m\u001b[0;34m-\u001b[0m\u001b[0mnc\u001b[0m\u001b[0;34m-\u001b[0m\u001b[0msa\u001b[0m\u001b[0;34m/\u001b[0m\u001b[0;36m4.0\u001b[0m\u001b[0;34m/\u001b[0m\u001b[0mlegalcode\u001b[0m\u001b[0;34m)\u001b[0m\u001b[0;34m.\u001b[0m\u001b[0;34m\u001b[0m\u001b[0;34m\u001b[0m\u001b[0m\n\u001b[1;32m      4\u001b[0m \"\"\"\n\u001b[0;32m----> 5\u001b[0;31m \u001b[0;32mfrom\u001b[0m \u001b[0mnetworks\u001b[0m \u001b[0;32mimport\u001b[0m \u001b[0mMsImageDis\u001b[0m\u001b[0;34m,\u001b[0m \u001b[0mVAEGen\u001b[0m\u001b[0;34m\u001b[0m\u001b[0;34m\u001b[0m\u001b[0m\n\u001b[0m\u001b[1;32m      6\u001b[0m \u001b[0;32mfrom\u001b[0m \u001b[0mutils\u001b[0m \u001b[0;32mimport\u001b[0m \u001b[0mweights_init\u001b[0m\u001b[0;34m,\u001b[0m \u001b[0mget_model_list\u001b[0m\u001b[0;34m,\u001b[0m \u001b[0mget_scheduler\u001b[0m\u001b[0;34m\u001b[0m\u001b[0;34m\u001b[0m\u001b[0m\n\u001b[1;32m      7\u001b[0m \u001b[0;32mfrom\u001b[0m \u001b[0mtorch\u001b[0m\u001b[0;34m.\u001b[0m\u001b[0mautograd\u001b[0m \u001b[0;32mimport\u001b[0m \u001b[0mVariable\u001b[0m\u001b[0;34m\u001b[0m\u001b[0;34m\u001b[0m\u001b[0m\n",
      "\u001b[0;31mModuleNotFoundError\u001b[0m: No module named 'networks'"
     ]
    }
   ],
   "source": [
    "import xarray as xr\n",
    "import numpy as np\n",
    "import dask\n",
    "import argparse\n",
    "import sys\n",
    "import os\n",
    "\n",
    "from climatetranslation.unit.utils import get_config\n",
    "from climatetranslation.unit.data import get_all_data_loaders\n",
    "from climatetranslation.unit.trainer import UNIT_Trainer\n",
    "\n",
    "import torch\n",
    "\n",
    "\n",
    "# load post-processing - opposite of preprocessing\n",
    "def post_process_constructor(config):\n",
    "    if config['preprocess_method']=='zeromean':\n",
    "        \n",
    "        ab = 'b' if args.a2b else 'a'\n",
    "        ds_agg = xr.load_dataset(config[f'agg_data_{ab}']).isel(height=0)\n",
    "        \n",
    "        def undo_zeromean(x):\n",
    "            return x + ds_agg.sel(variable='mean').to_array()\n",
    "        return undo_zeromean\n",
    "    \n",
    "    else:\n",
    "        def celcius_to_kelvin(x):\n",
    "            return x + 273\n",
    "        return celcius_to_kelvin\n",
    "    \n",
    "    \n",
    "def network_translate_constructor(config, checkpoint, a2b):\n",
    "    \n",
    "    # load model\n",
    "    state_dict = torch.load(checkpoint)\n",
    "\n",
    "    trainer = UNIT_Trainer(config)\n",
    "    trainer.gen_a.load_state_dict(state_dict['a'])\n",
    "    trainer.gen_b.load_state_dict(state_dict['b'])\n",
    "    trainer.eval().cuda()\n",
    "    encode = trainer.gen_a.encode if a2b else trainer.gen_b.encode # encode function\n",
    "    decode = trainer.gen_b.decode if a2b else trainer.gen_a.decode # decode function\n",
    "    \n",
    "    def network_translate(x):\n",
    "        x = np.array(x)[np.newaxis, ...]\n",
    "        x = torch.from_numpy(x).cuda()\n",
    "        x, noise = encode(x)\n",
    "        x = decode(x)\n",
    "        x = x.cpu().detach().numpy()\n",
    "        return x\n",
    "    return network_translate\n",
    "    \n",
    "\n",
    "\n",
    "def complete_translate_constructor(config, checkpoint, a2b):\n",
    "    \n",
    "    network_translate = network_translate_constructor(config, checkpoint, a2b)\n",
    "    post_process = post_process_constructor(config)\n",
    "    \n",
    "    def translate(x):\n",
    "        x = network_translate(x)\n",
    "        x = post_process(x)\n",
    "        return x\n",
    "    \n",
    "    return translate"
   ]
  },
  {
   "cell_type": "code",
   "execution_count": 3,
   "metadata": {},
   "outputs": [
    {
     "name": "stdout",
     "output_type": "stream",
     "text": [
      "Create weight file: bilinear_324x432_192x288_peri.nc\n",
      "Remove file bilinear_324x432_192x288_peri.nc\n",
      "using dimensions ('lat', 'lon') from data variable tas as the horizontal dimensions for this dataset.\n"
     ]
    }
   ],
   "source": [
    "class Args:\n",
    "    def __init__(self, config, output_zarr, checkpoint, a2b, seed):\n",
    "        self.config = config\n",
    "        self.output_zarr = output_zarr\n",
    "        self.checkpoint = checkpoint\n",
    "        self.a2b = a2b\n",
    "        self.seed = seed\n",
    "\n",
    "args=Args(\n",
    "    config=os.path.expanduser('~/model_outputs/outputs/hadgem3_to_cam5_nat-hist/config.yaml'),\n",
    "    output_zarr=\"/datastore/cam5/nat_hist_to_hadgem3_zarr\",\n",
    "    checkpoint=os.path.expanduser('~/model_outputs/outputs/hadgem3_to_cam5_nat-hist/checkpoints/gen_00160000.pt'),\n",
    "    a2b=0,\n",
    "    seed=32213,\n",
    ")\n",
    "\n",
    "\n",
    "torch.manual_seed(args.seed)\n",
    "torch.cuda.manual_seed(args.seed)\n",
    "\n",
    "# Load experiment setting\n",
    "config = get_config(args.config)\n",
    "\n",
    "# Setup model and data loader\n",
    "# By constructing loader and extracting dataset from this we make sure all preprocessing is\n",
    "# consistent\n",
    "loaders = get_all_data_loaders(config, downscale_consolidate=True)\n",
    "ds = loaders[0].dataset.ds if args.a2b else loaders[2].dataset.ds\n",
    "da = ds.to_array().transpose('run', 'time', 'variable', 'lat', 'lon')\n",
    "\n",
    "# append number of variables\n",
    "config['input_dim_a'] = loaders[0].dataset.shape[1]\n",
    "config['input_dim_b'] = loaders[2].dataset.shape[1]\n",
    "del loaders\n",
    "\n",
    "\n",
    "translate = complete_translate_constructor(config, args.checkpoint, args.a2b)"
   ]
  },
  {
   "cell_type": "code",
   "execution_count": 4,
   "metadata": {},
   "outputs": [
    {
     "name": "stderr",
     "output_type": "stream",
     "text": [
      "/anaconda/envs/py37_pytorch/lib/python3.7/site-packages/torch/storage.py:34: FutureWarning: pickle support for Storage will be removed in 1.5. Use `torch.save` instead\n",
      "  warnings.warn(\"pickle support for Storage will be removed in 1.5. Use `torch.save` instead\", FutureWarning)\n"
     ]
    }
   ],
   "source": [
    "ds_translated = xr.apply_ufunc(translate, \n",
    "                               da.isel(run=slice(0,1), time=slice(0,10)),\n",
    "                                vectorize=True,\n",
    "                                dask='parallelized', \n",
    "                                output_dtypes=['float'],\n",
    "                                input_core_dims=[['variable', 'lat', 'lon']],\n",
    "                                output_core_dims=[['variable', 'lat', 'lon']],)"
   ]
  },
  {
   "cell_type": "code",
   "execution_count": 5,
   "metadata": {},
   "outputs": [
    {
     "name": "stdout",
     "output_type": "stream",
     "text": [
      "[########################################] | 100% Completed |  0.5s\n"
     ]
    }
   ],
   "source": [
    "from dask.diagnostics import ProgressBar\n",
    "with ProgressBar():\n",
    "    ds_translated.to_dataset(dim='variable').to_zarr(args.output_zarr, consolidated=True, mode='w')"
   ]
  },
  {
   "cell_type": "code",
   "execution_count": null,
   "metadata": {},
   "outputs": [],
   "source": []
  }
 ],
 "metadata": {
  "kernelspec": {
   "display_name": "py37_pytorch2",
   "language": "python",
   "name": "conda-env-py37_pytorch2-py"
  },
  "language_info": {
   "codemirror_mode": {
    "name": "ipython",
    "version": 3
   },
   "file_extension": ".py",
   "mimetype": "text/x-python",
   "name": "python",
   "nbconvert_exporter": "python",
   "pygments_lexer": "ipython3",
   "version": "3.7.9"
  }
 },
 "nbformat": 4,
 "nbformat_minor": 4
}
