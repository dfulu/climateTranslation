{
 "cells": [
  {
   "cell_type": "code",
   "execution_count": null,
   "metadata": {},
   "outputs": [],
   "source": [
    "cd ../../UNIT"
   ]
  },
  {
   "cell_type": "code",
   "execution_count": 2,
   "metadata": {},
   "outputs": [],
   "source": [
    "#from trainer import UNIT_Trainer\n",
    "#import xarray as xr\n",
    "from trainer import UNIT_Trainer\n",
    "from utils import get_all_data_loaders, prepare_sub_folder, write_html, write_loss, get_config, write_2images, Timer\n",
    "\n",
    "import argparse\n",
    "import os\n",
    "import sys\n",
    "import shutil\n",
    "\n",
    "import torch\n",
    "from torch.autograd import Variable\n",
    "import torch.backends.cudnn as cudnn\n"
   ]
  },
  {
   "cell_type": "code",
   "execution_count": 3,
   "metadata": {},
   "outputs": [
    {
     "data": {
      "text/plain": [
       "'1.6.0'"
      ]
     },
     "execution_count": 3,
     "metadata": {},
     "output_type": "execute_result"
    }
   ],
   "source": [
    "torch.__version__"
   ]
  },
  {
   "cell_type": "code",
   "execution_count": 4,
   "metadata": {},
   "outputs": [],
   "source": [
    "config_path = 'configs/hadgem3_to_cam5_nat-hist-4channels.yaml'\n",
    "cudnn.benchmark = True\n",
    "\n",
    "# Load experiment setting\n",
    "config = get_config(config_path)\n",
    "config['num_workers']=3\n",
    "config['timeout']=30\n",
    "max_iter = config['max_iter']\n",
    "display_size = 2"
   ]
  },
  {
   "cell_type": "code",
   "execution_count": 5,
   "metadata": {},
   "outputs": [],
   "source": [
    "train_loader_a, _, train_loader_b, _ = get_all_data_loaders(config, downscale_consolidate=False)"
   ]
  },
  {
   "cell_type": "code",
   "execution_count": 6,
   "metadata": {},
   "outputs": [
    {
     "name": "stdout",
     "output_type": "stream",
     "text": [
      "0\n",
      "1\n",
      "2\n",
      "3\n",
      "4\n",
      "5\n"
     ]
    }
   ],
   "source": [
    "# Start training\n",
    "for it, (images_a, images_b) in enumerate(zip(train_loader_a, train_loader_b)):\n",
    "    images_a.cuda()\n",
    "    print(it)\n",
    "    if it >=5:\n",
    "        break"
   ]
  },
  {
   "cell_type": "code",
   "execution_count": 7,
   "metadata": {},
   "outputs": [
    {
     "data": {
      "text/plain": [
       "torch.Size([1, 4, 324, 432])"
      ]
     },
     "execution_count": 7,
     "metadata": {},
     "output_type": "execute_result"
    }
   ],
   "source": [
    "images_a.shape"
   ]
  },
  {
   "cell_type": "code",
   "execution_count": 8,
   "metadata": {},
   "outputs": [],
   "source": [
    "# Selection of climate fields to display after a number of updates\n",
    "train_display_images_a = torch.cat([img for _, img in zip(range(display_size), train_loader_a)]).cuda()\n",
    "train_display_images_b = torch.cat([img for _, img in zip(range(display_size), train_loader_b)]).cuda()"
   ]
  },
  {
   "cell_type": "code",
   "execution_count": 9,
   "metadata": {},
   "outputs": [
    {
     "data": {
      "text/plain": [
       "tensor([[[[-0.5515, -0.5263, -0.5288,  ..., -0.5508, -0.5489, -0.5763],\n",
       "          [-0.5240, -0.5252, -0.5240,  ..., -0.5172, -0.5188, -0.5152],\n",
       "          [-0.5118, -0.5130, -0.5142,  ..., -0.5051, -0.5069, -0.5082],\n",
       "          ...,\n",
       "          [-0.3149, -0.3150, -0.3151,  ..., -0.3158, -0.3158, -0.3153],\n",
       "          [-0.3268, -0.3267, -0.3266,  ..., -0.3267, -0.3267, -0.3266],\n",
       "          [-0.4487, -0.4489, -0.4492,  ..., -0.4479, -0.4482, -0.4486]],\n",
       "\n",
       "         [[ 1.6043,  1.5984,  1.5955,  ...,  1.6027,  1.6029,  1.6105],\n",
       "          [ 1.5843,  1.5876,  1.5898,  ...,  1.5948,  1.5900,  1.5848],\n",
       "          [ 1.6405,  1.6392,  1.6393,  ...,  1.6450,  1.6431,  1.6401],\n",
       "          ...,\n",
       "          [-0.9577, -0.9586, -0.9561,  ..., -0.9604, -0.9585, -0.9619],\n",
       "          [-0.9656, -0.9646, -0.9621,  ..., -0.9671, -0.9657, -0.9679],\n",
       "          [-1.0111, -1.0088, -1.0080,  ..., -1.0087, -1.0109, -1.0102]],\n",
       "\n",
       "         [[ 1.6818,  1.6758,  1.6723,  ...,  1.6728,  1.6755,  1.6852],\n",
       "          [ 1.6535,  1.6581,  1.6628,  ...,  1.6685,  1.6613,  1.6539],\n",
       "          [ 1.6902,  1.6898,  1.6895,  ...,  1.6935,  1.6916,  1.6902],\n",
       "          ...,\n",
       "          [-0.9414, -0.9419, -0.9405,  ..., -0.9433, -0.9434, -0.9425],\n",
       "          [-0.9508, -0.9524, -0.9498,  ..., -0.9516, -0.9530, -0.9502],\n",
       "          [-0.9731, -0.9701, -0.9700,  ..., -0.9715, -0.9724, -0.9705]],\n",
       "\n",
       "         [[ 1.5393,  1.5222,  1.5183,  ...,  1.5328,  1.5342,  1.5391],\n",
       "          [ 1.5234,  1.5241,  1.5252,  ...,  1.5332,  1.5294,  1.5229],\n",
       "          [ 1.5893,  1.5883,  1.5885,  ...,  1.5900,  1.5949,  1.5841],\n",
       "          ...,\n",
       "          [-0.9572, -0.9558, -0.9564,  ..., -0.9628, -0.9607, -0.9610],\n",
       "          [-0.9539, -0.9431, -0.9468,  ..., -0.9475, -0.9474, -0.9512],\n",
       "          [-0.9933, -0.9959, -0.9932,  ..., -0.9884, -0.9906, -0.9921]]],\n",
       "\n",
       "\n",
       "        [[[-0.4913, -0.4749, -0.4776,  ..., -0.5048, -0.5035, -0.5240],\n",
       "          [-0.3283, -0.3267, -0.3300,  ..., -0.3091, -0.3060, -0.3078],\n",
       "          [-0.0792, -0.0789, -0.0777,  ..., -0.0397, -0.0244, -0.0529],\n",
       "          ...,\n",
       "          [ 0.1827,  0.1893,  0.1979,  ...,  0.1656,  0.1710,  0.1771],\n",
       "          [ 0.3509,  0.3567,  0.3634,  ...,  0.3329,  0.3389,  0.3443],\n",
       "          [ 0.3578,  0.3611,  0.3636,  ...,  0.3510,  0.3544,  0.3557]],\n",
       "\n",
       "         [[ 1.5594,  1.5538,  1.5522,  ...,  1.5610,  1.5623,  1.5671],\n",
       "          [ 1.5661,  1.5691,  1.5716,  ...,  1.5736,  1.5692,  1.5655],\n",
       "          [ 1.6276,  1.6290,  1.6299,  ...,  1.6283,  1.6268,  1.6243],\n",
       "          ...,\n",
       "          [-1.1025, -1.0973, -1.0962,  ..., -1.1150, -1.1078, -1.1068],\n",
       "          [-0.9907, -0.9925, -0.9907,  ..., -0.9987, -0.9975, -0.9943],\n",
       "          [-0.8981, -0.8965, -0.8974,  ..., -0.8991, -0.9001, -0.8975]],\n",
       "\n",
       "         [[ 1.5793,  1.5775,  1.5763,  ...,  1.5789,  1.5807,  1.5844],\n",
       "          [ 1.5676,  1.5727,  1.5760,  ...,  1.5767,  1.5720,  1.5688],\n",
       "          [ 1.6262,  1.6262,  1.6267,  ...,  1.6238,  1.6222,  1.6221],\n",
       "          ...,\n",
       "          [-1.3648, -1.3538, -1.3608,  ..., -1.3772, -1.3642, -1.3672],\n",
       "          [-1.2511, -1.2573, -1.2455,  ..., -1.2661, -1.2534, -1.2535],\n",
       "          [-1.1167, -1.1151, -1.1165,  ..., -1.1191, -1.1153, -1.1092]],\n",
       "\n",
       "         [[ 1.5644,  1.5471,  1.5367,  ...,  1.5539,  1.5557,  1.5736],\n",
       "          [ 1.5586,  1.5637,  1.5669,  ...,  1.5710,  1.5669,  1.5636],\n",
       "          [ 1.6199,  1.6198,  1.6230,  ...,  1.6206,  1.6148,  1.6142],\n",
       "          ...,\n",
       "          [-1.0512, -1.0529, -1.0554,  ..., -1.0636, -1.0551, -1.0593],\n",
       "          [-0.9796, -0.9734, -0.9778,  ..., -0.9879, -0.9852, -0.9791],\n",
       "          [-0.8803, -0.8790, -0.8790,  ..., -0.8824, -0.8887, -0.8851]]]],\n",
       "       device='cuda:0')"
      ]
     },
     "execution_count": 9,
     "metadata": {},
     "output_type": "execute_result"
    }
   ],
   "source": [
    "train_display_images_a"
   ]
  },
  {
   "cell_type": "code",
   "execution_count": 19,
   "metadata": {},
   "outputs": [],
   "source": [
    "import xarray as xr\n",
    "\n",
    "ds = xr.load_dataset(config['agg_data_a'])\n",
    "ds['tasmin'].values = ds['tas'].values\n",
    "ds['tasmax'].values = ds['tas'].values\n",
    "ds.to_netcdf(config['agg_data_a'].strip('.nc')+'_temp_coherent.nc')"
   ]
  },
  {
   "cell_type": "code",
   "execution_count": 20,
   "metadata": {},
   "outputs": [],
   "source": [
    "import xarray as xr\n",
    "\n",
    "ds = xr.load_dataset(config['agg_data_b'])\n",
    "ds['tasmin'].values = ds['tas'].values\n",
    "ds['tasmax'].values = ds['tas'].values\n",
    "ds.to_netcdf(config['agg_data_b'].strip('.nc')+'_temp_coherent.nc')"
   ]
  },
  {
   "cell_type": "code",
   "execution_count": 22,
   "metadata": {},
   "outputs": [
    {
     "data": {
      "text/plain": [
       "'/datadrive/miroc5/nat_hist_agg.nc'"
      ]
     },
     "execution_count": 22,
     "metadata": {},
     "output_type": "execute_result"
    }
   ],
   "source": [
    "f = '/datadrive/miroc5/nat_hist_agg.nc'\n",
    "f"
   ]
  },
  {
   "cell_type": "code",
   "execution_count": 23,
   "metadata": {},
   "outputs": [],
   "source": [
    "ds = xr.load_dataset(f)\n",
    "ds['tasmin'].values = ds['tas'].values\n",
    "ds['tasmax'].values = ds['tas'].values\n",
    "ds.to_netcdf(f.strip('.nc')+'_temp_coherent.nc')"
   ]
  },
  {
   "cell_type": "code",
   "execution_count": null,
   "metadata": {},
   "outputs": [],
   "source": []
  }
 ],
 "metadata": {
  "kernelspec": {
   "display_name": "py37_pytorch",
   "language": "python",
   "name": "conda-env-py37_pytorch-py"
  },
  "language_info": {
   "codemirror_mode": {
    "name": "ipython",
    "version": 3
   },
   "file_extension": ".py",
   "mimetype": "text/x-python",
   "name": "python",
   "nbconvert_exporter": "python",
   "pygments_lexer": "ipython3",
   "version": "3.7.8"
  }
 },
 "nbformat": 4,
 "nbformat_minor": 4
}
