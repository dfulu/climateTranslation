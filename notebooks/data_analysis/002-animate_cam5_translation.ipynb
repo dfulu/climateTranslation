{
 "cells": [
  {
   "cell_type": "code",
   "execution_count": null,
   "metadata": {},
   "outputs": [],
   "source": [
    "import numpy as np\n",
    "import xarray as xr\n",
    "import holoviews as hv\n",
    "from dask.diagnostics import ProgressBar\n",
    "from datetime import datetime\n",
    "import cftime\n",
    "import dask\n",
    "import matplotlib.pyplot as plt\n",
    "\n",
    "hv.extension('bokeh')"
   ]
  },
  {
   "cell_type": "markdown",
   "metadata": {},
   "source": [
    "### Animation comparison"
   ]
  },
  {
   "cell_type": "code",
   "execution_count": null,
   "metadata": {},
   "outputs": [],
   "source": [
    "ds_cam = xr.open_zarr('/datadrive/cam5/nat_hist_zarr').isel(height=0)"
   ]
  },
  {
   "cell_type": "code",
   "execution_count": null,
   "metadata": {},
   "outputs": [],
   "source": [
    "ds_cam2had = xr.open_zarr('/datastore/cam5/nat_hist_to_hadgem3_zarr', consolidated=True)"
   ]
  },
  {
   "cell_type": "code",
   "execution_count": null,
   "metadata": {},
   "outputs": [],
   "source": [
    "ds_had = xr.open_zarr('/datastore/hadgem3/nat_hist_zarr', consolidated=True)"
   ]
  },
  {
   "cell_type": "code",
   "execution_count": null,
   "metadata": {},
   "outputs": [],
   "source": [
    "def get_images(da_list, **kwargs):\n",
    "    hv_list = []\n",
    "    for da in da_list:\n",
    "        hv_ds = hv.Dataset(da)\n",
    "        hv_list.append(hv_ds.to(hv.Image, ['lon', 'lat']).options(**kwargs))\n",
    "    return hv_list\n",
    "        \n",
    "images1 = get_images(\n",
    "    [ds.isel(run=0, time=slice(0, 30)).tas.load()-273 for ds in [ds_cam2had, ds_cam]], \n",
    "    height=180,\n",
    "    width=360,\n",
    "    cmap='viridis',\n",
    "    colorbar=True\n",
    ")\n",
    "\n",
    "# colorbars are matched if the variables have the same names\n",
    "images2 = get_images(\n",
    "    [(ds_cam-ds_cam2had).isel(run=0, time=slice(0, 30)).tas.load().rename('tas_diff')], \n",
    "    height=180,\n",
    "    width=360,\n",
    "    cmap='bwr',\n",
    "    colorbar=True\n",
    ")\n",
    "    \n",
    "image  = images1[0].opts(title='CAM2Had') \\\n",
    "       + images1[1].opts(title=\"CAM\") \\\n",
    "       + images2[0].opts(title=\"CAM - CAM2Had\").redim.range(tas_diff=(-20, 20))"
   ]
  },
  {
   "cell_type": "code",
   "execution_count": null,
   "metadata": {},
   "outputs": [],
   "source": [
    "%%output holomap='scrubber'\n",
    "# ['gif', ]\n",
    "image"
   ]
  },
  {
   "cell_type": "markdown",
   "metadata": {},
   "source": [
    "The image sequences look like they maintain spatial structures, which is what we were hoping for."
   ]
  },
  {
   "cell_type": "markdown",
   "metadata": {},
   "source": [
    "### Basic statistics comparison"
   ]
  },
  {
   "cell_type": "code",
   "execution_count": null,
   "metadata": {},
   "outputs": [],
   "source": [
    "agg_had = xr.open_dataset(\"/datastore/hadgem3/nat_hist_agg.nc\").load().isel(height=0)\n",
    "agg_cam = xr.open_dataset(\"/datastore/cam5/nat_hist_agg.nc\").load().isel(height=0)\n",
    "agg_cam2had = xr.open_dataset(\"/datastore/cam5/nat_hist_to_hadgem3_agg.nc\").load()"
   ]
  },
  {
   "cell_type": "code",
   "execution_count": null,
   "metadata": {},
   "outputs": [],
   "source": [
    "cd ../../UNIT"
   ]
  },
  {
   "cell_type": "code",
   "execution_count": null,
   "metadata": {},
   "outputs": [],
   "source": [
    "from data import construct_regridders"
   ]
  },
  {
   "cell_type": "code",
   "execution_count": null,
   "metadata": {},
   "outputs": [],
   "source": [
    "cd ../notebooks/data_analysis"
   ]
  },
  {
   "cell_type": "code",
   "execution_count": null,
   "metadata": {},
   "outputs": [],
   "source": [
    "rg_a, rg_b = construct_regridders(agg_had, agg_cam)\n",
    "\n",
    "agg_had = agg_had if rg_a is None else rg_a(agg_had).astype(np.float32)\n",
    "agg_cam = agg_cam if rg_b is None else rg_b(agg_cam).astype(np.float32)"
   ]
  },
  {
   "cell_type": "code",
   "execution_count": null,
   "metadata": {},
   "outputs": [],
   "source": [
    "ds_list = [ds for ds in [agg_had, agg_cam2had, agg_cam]]"
   ]
  },
  {
   "cell_type": "code",
   "execution_count": null,
   "metadata": {},
   "outputs": [],
   "source": [
    "ds_allmod = xr.concat(ds_list, dim='source').assign_coords(source=['had', 'cam2had', 'cam'])\n",
    "ds_allmod_diff = ds_allmod - ds_allmod.sel(source='cam2had')"
   ]
  },
  {
   "cell_type": "code",
   "execution_count": null,
   "metadata": {},
   "outputs": [],
   "source": [
    "def plot_comp(stat):\n",
    "    fig = ds_allmod.tas.sel(aggregate_statistic=stat).plot(col='source')\n",
    "    plt.suptitle(f'{stat} for each data source', y=1.05)\n",
    "    ds_allmod_diff.tas.sel(aggregate_statistic=stat).plot(col='source')\n",
    "    plt.suptitle(f'{stat} for each x = data source - cam2had', y=1.05)\n",
    "    return fig"
   ]
  },
  {
   "cell_type": "code",
   "execution_count": null,
   "metadata": {},
   "outputs": [],
   "source": [
    "plot_comp('mean')"
   ]
  },
  {
   "cell_type": "markdown",
   "metadata": {},
   "source": [
    "The mean of the cam5$\\rightarrow$hadgem3 translated output has a mean very similar to the raw hadgem output. CAM has colder poles."
   ]
  },
  {
   "cell_type": "code",
   "execution_count": null,
   "metadata": {},
   "outputs": [],
   "source": [
    "plot_comp('std')"
   ]
  },
  {
   "cell_type": "markdown",
   "metadata": {},
   "source": [
    "The std of the cam5$\\rightarrow$hadgem3 translated output is also very similar to the raw hadgem output. CAM has more variant poles."
   ]
  },
  {
   "cell_type": "code",
   "execution_count": null,
   "metadata": {},
   "outputs": [],
   "source": [
    "plot_comp('min')"
   ]
  },
  {
   "cell_type": "code",
   "execution_count": null,
   "metadata": {},
   "outputs": [],
   "source": [
    "plot_comp('max')"
   ]
  },
  {
   "cell_type": "markdown",
   "metadata": {},
   "source": [
    "The mins and maxes of cam5$\\rightarrow$hadgem3 also better match HadGem3 tahn CAM5. This really highlights the extremes on land."
   ]
  },
  {
   "cell_type": "markdown",
   "metadata": {},
   "source": [
    "### Trend"
   ]
  },
  {
   "cell_type": "code",
   "execution_count": null,
   "metadata": {},
   "outputs": [],
   "source": [
    "def calculate_mean_trend(da):\n",
    "    # cos latitude weights\n",
    "    weight = np.cos(np.deg2rad(da.lat))\n",
    "    weight /= weight.sum()\n",
    "    return (da.mean(dim='lon')*weight).sum(dim='lat')"
   ]
  },
  {
   "cell_type": "code",
   "execution_count": null,
   "metadata": {},
   "outputs": [],
   "source": [
    "def _to_datetime(dt):\n",
    "    return datetime(dt.year, dt.month,dt.day,dt.hour)\n",
    "\n",
    "def to_compatible_datetime(dt, like_dt):\n",
    "    if isinstance(like_dt, cftime.DatetimeNoLeap):\n",
    "        return cftime.DatetimeNoLeap(dt.year, dt.month,dt.day,dt.hour)\n",
    "    elif isinstance(like_dt, cftime.Datetime360Day):\n",
    "        return cftime.Datetime360Day(dt.year, dt.month,dt.day,dt.hour)\n",
    "    raise ValueError(f\"Not valid datetype {like_dt}\")\n",
    "\n",
    "def _time_overlap(ds_list):\n",
    "    dt_min = max([_to_datetime(ds.time.values.min()) for ds in ds_list])\n",
    "    dt_max = min([_to_datetime(ds.time.values.max()) for ds in ds_list])\n",
    "    return dt_min, dt_max\n",
    "\n",
    "def filter_to_time_overlap(ds_list):\n",
    "    dt_min, dt_max = _time_overlap(ds_list)\n",
    "    ds_filtered=[]\n",
    "    for ds in ds_list:\n",
    "        dt_min_ = to_compatible_datetime(dt_min, ds.time.values[0])\n",
    "        dt_max_ = to_compatible_datetime(dt_max, ds.time.values[0])\n",
    "        ds_filtered.append(ds.sel(time=slice(dt_min_, dt_max_)))\n",
    "    return ds_filtered"
   ]
  },
  {
   "cell_type": "code",
   "execution_count": null,
   "metadata": {},
   "outputs": [],
   "source": [
    "ds_trend_list = [calculate_mean_trend(ds) for ds in filter_to_time_overlap([ds_cam, ds_cam2had, ds_had])]"
   ]
  },
  {
   "cell_type": "code",
   "execution_count": null,
   "metadata": {},
   "outputs": [],
   "source": [
    "with ProgressBar(dt=10):\n",
    "    ds_trend_list = dask.compute(ds_trend_list, scheduler='processes')"
   ]
  },
  {
   "cell_type": "code",
   "execution_count": null,
   "metadata": {},
   "outputs": [],
   "source": [
    "ds_trend_list_ = ds_trend_list[0]"
   ]
  },
  {
   "cell_type": "code",
   "execution_count": null,
   "metadata": {},
   "outputs": [],
   "source": [
    "for ds, source in zip(ds_trend_list_, ['cam', 'cam2had', 'had']):\n",
    "    plt.plot(ds.tas.isel(run=0).values, label=source, alpha=0.7)\n",
    "plt.legend()"
   ]
  },
  {
   "cell_type": "markdown",
   "metadata": {},
   "source": [
    "I don't know what I expected to learn from this, but you can see the extremes line up better for cam5$\\rightarrow$hadgem3 and hadgem3."
   ]
  },
  {
   "cell_type": "code",
   "execution_count": null,
   "metadata": {},
   "outputs": [],
   "source": [
    "for ds, source in zip(ds_trend_list_[:-1], ['cam', 'cam2had',]):\n",
    "    y = ds.tas.isel(run=0, time=slice(2000, 5000)).values\n",
    "    plt.plot(y-y.mean(), label=source, alpha=0.7)\n",
    "plt.legend()"
   ]
  },
  {
   "cell_type": "markdown",
   "metadata": {},
   "source": [
    "Looks like we still get some of the extreme global events mapped across. The outlying points are preserved but are shifted to better allign with hadegm3"
   ]
  },
  {
   "cell_type": "code",
   "execution_count": null,
   "metadata": {},
   "outputs": [],
   "source": [
    "colours = plt.rcParams['axes.prop_cycle'].by_key()['color'][:3]\n",
    "bins=100\n",
    "for ds, source, c in zip(ds_trend_list_, ['cam', 'cam2had', 'had'], colours):\n",
    "    ds.tas.plot.hist(label=source, color=c, alpha=0.4, bins=bins)\n",
    "    ds.tas.plot.hist(bins=bins, color=c, histtype='step')\n",
    "plt.legend()"
   ]
  },
  {
   "cell_type": "code",
   "execution_count": null,
   "metadata": {},
   "outputs": [],
   "source": []
  }
 ],
 "metadata": {
  "kernelspec": {
   "display_name": "clim2clim2",
   "language": "python",
   "name": "clim2clim2"
  },
  "language_info": {
   "codemirror_mode": {
    "name": "ipython",
    "version": 3
   },
   "file_extension": ".py",
   "mimetype": "text/x-python",
   "name": "python",
   "nbconvert_exporter": "python",
   "pygments_lexer": "ipython3",
   "version": "3.8.12"
  }
 },
 "nbformat": 4,
 "nbformat_minor": 4
}
